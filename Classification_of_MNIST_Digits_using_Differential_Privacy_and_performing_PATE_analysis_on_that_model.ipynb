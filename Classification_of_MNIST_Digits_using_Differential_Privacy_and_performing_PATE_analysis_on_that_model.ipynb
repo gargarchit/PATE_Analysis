{
  "nbformat": 4,
  "nbformat_minor": 0,
  "metadata": {
    "colab": {
      "name": "Classification of MNIST Digits using Differential Privacy and performing PATE analysis on that model.ipynb",
      "version": "0.3.2",
      "provenance": [],
      "include_colab_link": true
    },
    "language_info": {
      "codemirror_mode": {
        "name": "ipython",
        "version": 3
      },
      "file_extension": ".py",
      "mimetype": "text/x-python",
      "name": "python",
      "nbconvert_exporter": "python",
      "pygments_lexer": "ipython3",
      "version": "3.6.5"
    },
    "kernelspec": {
      "name": "python3",
      "display_name": "Python 3"
    },
    "accelerator": "GPU"
  },
  "cells": [
    {
      "cell_type": "markdown",
      "metadata": {
        "id": "view-in-github",
        "colab_type": "text"
      },
      "source": [
        "<a href=\"https://colab.research.google.com/github/gargarchit/PATE_Analysis/blob/master/Classification_of_MNIST_Digits_using_Differential_Privacy_and_performing_PATE_analysis_on_that_model.ipynb\" target=\"_parent\"><img src=\"https://colab.research.google.com/assets/colab-badge.svg\" alt=\"Open In Colab\"/></a>"
      ]
    },
    {
      "cell_type": "markdown",
      "metadata": {
        "id": "uT4usrKFIsVo",
        "colab_type": "text"
      },
      "source": [
        "<h2>1. Loading MNIST Data</h2> "
      ]
    },
    {
      "cell_type": "code",
      "metadata": {
        "id": "qIp9eTtCIsVt",
        "colab_type": "code",
        "outputId": "73c314ab-45c6-4ee8-bdf8-c3926483212f",
        "colab": {
          "base_uri": "https://localhost:8080/",
          "height": 260
        }
      },
      "source": [
        "import torch\n",
        "from torchvision import datasets, transforms\n",
        "\n",
        "transform = transforms.Compose([transforms.ToTensor(),\n",
        "                                transforms.Normalize([0.5], [0.5])]) #Grey Scale Image\n",
        "mnist_trainset = datasets.MNIST(root='./data', train=True, download=True, transform=transform)  #private data\n",
        "mnist_testset = datasets.MNIST(root='./data', train=False, download=True, transform=transform)  #public data"
      ],
      "execution_count": 2,
      "outputs": [
        {
          "output_type": "stream",
          "text": [
            "\r0it [00:00, ?it/s]"
          ],
          "name": "stderr"
        },
        {
          "output_type": "stream",
          "text": [
            "Downloading http://yann.lecun.com/exdb/mnist/train-images-idx3-ubyte.gz to ./data/MNIST/raw/train-images-idx3-ubyte.gz\n"
          ],
          "name": "stdout"
        },
        {
          "output_type": "stream",
          "text": [
            "9920512it [00:03, 2951265.41it/s]                             \n"
          ],
          "name": "stderr"
        },
        {
          "output_type": "stream",
          "text": [
            "Extracting ./data/MNIST/raw/train-images-idx3-ubyte.gz\n"
          ],
          "name": "stdout"
        },
        {
          "output_type": "stream",
          "text": [
            "\r0it [00:00, ?it/s]"
          ],
          "name": "stderr"
        },
        {
          "output_type": "stream",
          "text": [
            "Downloading http://yann.lecun.com/exdb/mnist/train-labels-idx1-ubyte.gz to ./data/MNIST/raw/train-labels-idx1-ubyte.gz\n"
          ],
          "name": "stdout"
        },
        {
          "output_type": "stream",
          "text": [
            "32768it [00:00, 48910.38it/s]                           \n",
            "0it [00:00, ?it/s]"
          ],
          "name": "stderr"
        },
        {
          "output_type": "stream",
          "text": [
            "Extracting ./data/MNIST/raw/train-labels-idx1-ubyte.gz\n",
            "Downloading http://yann.lecun.com/exdb/mnist/t10k-images-idx3-ubyte.gz to ./data/MNIST/raw/t10k-images-idx3-ubyte.gz\n"
          ],
          "name": "stdout"
        },
        {
          "output_type": "stream",
          "text": [
            "1654784it [00:02, 827221.20it/s]                             \n",
            "0it [00:00, ?it/s]"
          ],
          "name": "stderr"
        },
        {
          "output_type": "stream",
          "text": [
            "Extracting ./data/MNIST/raw/t10k-images-idx3-ubyte.gz\n",
            "Downloading http://yann.lecun.com/exdb/mnist/t10k-labels-idx1-ubyte.gz to ./data/MNIST/raw/t10k-labels-idx1-ubyte.gz\n"
          ],
          "name": "stdout"
        },
        {
          "output_type": "stream",
          "text": [
            "8192it [00:00, 18687.88it/s]            "
          ],
          "name": "stderr"
        },
        {
          "output_type": "stream",
          "text": [
            "Extracting ./data/MNIST/raw/t10k-labels-idx1-ubyte.gz\n",
            "Processing...\n",
            "Done!\n"
          ],
          "name": "stdout"
        },
        {
          "output_type": "stream",
          "text": [
            "\n"
          ],
          "name": "stderr"
        }
      ]
    },
    {
      "cell_type": "code",
      "metadata": {
        "id": "kBrDeaRtpo1h",
        "colab_type": "code",
        "outputId": "4bd6ba8f-ccca-406c-d5d1-46002be1319f",
        "colab": {
          "base_uri": "https://localhost:8080/",
          "height": 86
        }
      },
      "source": [
        "train_loader = torch.utils.data.DataLoader(mnist_trainset, batch_size=64, shuffle=True)\n",
        "test_loader = torch.utils.data.DataLoader(mnist_testset, batch_size=64, shuffle=True)\n",
        "mnist_trainset"
      ],
      "execution_count": 3,
      "outputs": [
        {
          "output_type": "execute_result",
          "data": {
            "text/plain": [
              "Dataset MNIST\n",
              "    Number of datapoints: 60000\n",
              "    Root location: ./data\n",
              "    Split: Train"
            ]
          },
          "metadata": {
            "tags": []
          },
          "execution_count": 3
        }
      ]
    },
    {
      "cell_type": "code",
      "metadata": {
        "id": "tODjjaxSIsV5",
        "colab_type": "code",
        "colab": {}
      },
      "source": [
        "from torch.utils.data import Subset\n",
        "num_teachers = 100\n",
        "\n",
        "teacher_loaders = []  #list of dataloaders\n",
        "\n",
        "data_size = 600 # mnist_trainset/num_teachers\n",
        "\n",
        "for i in range(num_teachers):\n",
        "    \n",
        "    indices = list(range(i*data_size, (i+1) *data_size))\n",
        "   \n",
        "    subset_data = Subset(mnist_trainset, indices)\n",
        "    \n",
        "    loader = torch.utils.data.DataLoader(subset_data, batch_size=64, num_workers=2)\n",
        "    teacher_loaders.append(loader)\n"
      ],
      "execution_count": 0,
      "outputs": []
    },
    {
      "cell_type": "code",
      "metadata": {
        "id": "zLRbC-KYks0z",
        "colab_type": "code",
        "outputId": "60aecee2-3461-47ab-ae5e-61ef160b675d",
        "colab": {
          "base_uri": "https://localhost:8080/",
          "height": 34
        }
      },
      "source": [
        "device = torch.device(\"cuda:0\" if torch.cuda.is_available() else \"cpu\")\n",
        "device"
      ],
      "execution_count": 5,
      "outputs": [
        {
          "output_type": "execute_result",
          "data": {
            "text/plain": [
              "device(type='cuda', index=0)"
            ]
          },
          "metadata": {
            "tags": []
          },
          "execution_count": 5
        }
      ]
    },
    {
      "cell_type": "markdown",
      "metadata": {
        "id": "LZ04nrPIIsWI",
        "colab_type": "text"
      },
      "source": [
        "<h2>2. Visualize a Batch of Training Data</h2>"
      ]
    },
    {
      "cell_type": "code",
      "metadata": {
        "id": "oqyeNPFsIsWK",
        "colab_type": "code",
        "outputId": "d04fda13-be1d-4172-97f1-49cc2bb74fcc",
        "colab": {
          "base_uri": "https://localhost:8080/",
          "height": 266
        }
      },
      "source": [
        "%matplotlib inline\n",
        "%config InlineBackend.figure_format = 'retina'\n",
        "\n",
        "import matplotlib.pyplot as plt\n",
        "import numpy as np\n",
        "    \n",
        "# obtain one batch of training images\n",
        "dataiter = iter(train_loader)\n",
        "images, labels = dataiter.next()\n",
        "images = images.numpy()\n",
        "\n",
        "# plot the images in the batch, along with the corresponding labels\n",
        "fig = plt.figure(figsize=(25, 4))\n",
        "for idx in np.arange(20):\n",
        "    ax = fig.add_subplot(2, 20/2, idx+1, xticks=[], yticks=[])\n",
        "    ax.imshow(np.squeeze(images[idx]), cmap='gray')\n",
        "    # print out the correct label for each image\n",
        "    # .item() gets the value contained in a Tensor\n",
        "    ax.set_title(str(labels[idx].item()))"
      ],
      "execution_count": 6,
      "outputs": [
        {
          "output_type": "display_data",
          "data": {
            "image/png": "[encoded data removed]",
            "text/plain": [
              "<Figure size 1800x288 with 20 Axes>"
            ]
          },
          "metadata": {
            "tags": [],
            "image/png": {
              "width": 1393,
              "height": 249
            }
          }
        }
      ]
    },
    {
      "cell_type": "markdown",
      "metadata": {
        "id": "xvZ4yGZ7IsWQ",
        "colab_type": "text"
      },
      "source": [
        "<h2>3. Network Architecture</h2> "
      ]
    },
    {
      "cell_type": "code",
      "metadata": {
        "id": "Q9pYqu51IsWS",
        "colab_type": "code",
        "colab": {}
      },
      "source": [
        "from torch import nn, optim\n",
        "import torch.nn.functional as F"
      ],
      "execution_count": 0,
      "outputs": []
    },
    {
      "cell_type": "code",
      "metadata": {
        "id": "ozFyAKLzIsWW",
        "colab_type": "code",
        "colab": {}
      },
      "source": [
        "class Classifier(nn.Module):\n",
        "    def __init__(self):\n",
        "        super().__init__()\n",
        "        self.fc1 = nn.Linear(784, 256)\n",
        "        self.fc2 = nn.Linear(256, 128)\n",
        "        self.fc3 = nn.Linear(128, 64)\n",
        "        self.fc4 = nn.Linear(64, 10)\n",
        "        \n",
        "        self.dropout = nn.Dropout(p=0.2) # Dropout module with 0.2 drop probability\n",
        "\n",
        "    def forward(self, x):\n",
        "        x = x.view(x.shape[0], -1)\n",
        "\n",
        "        x = self.dropout(F.relu(self.fc1(x)))\n",
        "        x = self.dropout(F.relu(self.fc2(x)))\n",
        "        x = self.dropout(F.relu(self.fc3(x)))\n",
        "\n",
        "        x = F.log_softmax(self.fc4(x), dim=1)\n",
        "\n",
        "        return x"
      ],
      "execution_count": 0,
      "outputs": []
    },
    {
      "cell_type": "markdown",
      "metadata": {
        "id": "Ih4r41sRIsWo",
        "colab_type": "text"
      },
      "source": [
        "<h2>4. Training the Network</h2> \n"
      ]
    },
    {
      "cell_type": "code",
      "metadata": {
        "id": "gy9nAQ-oIsWq",
        "colab_type": "code",
        "outputId": "a474fe4b-1940-475d-a538-aa6e5c444600",
        "colab": {
          "base_uri": "https://localhost:8080/",
          "height": 1754
        }
      },
      "source": [
        "epochs = 10\n",
        "models = []\n",
        "teacher_loss = []\n",
        "for i in range(num_teachers):\n",
        "  model = Classifier()\n",
        "  model.to(device)\n",
        "  criterion = nn.NLLLoss()\n",
        "  optimizer = optim.Adam(model.parameters(), lr=0.003)\n",
        "  running_loss = 0\n",
        "  for e in range(epochs):\n",
        "    for images, labels in teacher_loaders[i]:\n",
        "      images, labels = images.to(device), labels.to(device)\n",
        "      optimizer.zero_grad()\n",
        "      log_ps = model(images)\n",
        "      loss = criterion(log_ps, labels)\n",
        "      loss.backward()\n",
        "      optimizer.step()\n",
        "      running_loss += loss.item()\n",
        "  teacher_loss.append(running_loss)\n",
        "  print(\"Loss {} : {}\".format(i+1, running_loss))\n",
        "  models.append(model)"
      ],
      "execution_count": 9,
      "outputs": [
        {
          "output_type": "stream",
          "text": [
            "Loss: 1 is 99.27687606215477\n",
            "Loss: 2 is 95.63045956194401\n",
            "Loss: 3 is 93.49754676222801\n",
            "Loss: 4 is 88.71687892079353\n",
            "Loss: 5 is 105.09117618203163\n",
            "Loss: 6 is 98.23403615504503\n",
            "Loss: 7 is 95.13261032104492\n",
            "Loss: 8 is 98.11574396491051\n",
            "Loss: 9 is 94.21492971479893\n",
            "Loss: 10 is 85.76123765483499\n",
            "Loss: 11 is 80.96381226181984\n",
            "Loss: 12 is 91.42487747967243\n",
            "Loss: 13 is 111.45318794250488\n",
            "Loss: 14 is 94.87953874468803\n",
            "Loss: 15 is 112.48893529176712\n",
            "Loss: 16 is 93.65383963286877\n",
            "Loss: 17 is 90.18142756819725\n",
            "Loss: 18 is 82.8624265640974\n",
            "Loss: 19 is 87.54113645851612\n",
            "Loss: 20 is 103.74026572704315\n",
            "Loss: 21 is 98.78627276420593\n",
            "Loss: 22 is 119.74684581160545\n",
            "Loss: 23 is 95.04791951179504\n",
            "Loss: 24 is 108.8266693353653\n",
            "Loss: 25 is 109.44926831126213\n",
            "Loss: 26 is 93.03002300858498\n",
            "Loss: 27 is 105.1778652369976\n",
            "Loss: 28 is 95.14074593782425\n",
            "Loss: 29 is 113.1182576417923\n",
            "Loss: 30 is 113.68092232942581\n",
            "Loss: 31 is 89.01029002666473\n",
            "Loss: 32 is 107.70283438265324\n",
            "Loss: 33 is 82.87794103473425\n",
            "Loss: 34 is 95.0976457670331\n",
            "Loss: 35 is 102.9858720600605\n",
            "Loss: 36 is 91.95396460592747\n",
            "Loss: 37 is 103.41619390249252\n",
            "Loss: 38 is 99.74426010251045\n",
            "Loss: 39 is 88.52103216946125\n",
            "Loss: 40 is 98.52265021204948\n",
            "Loss: 41 is 102.72517402470112\n",
            "Loss: 42 is 107.60144765675068\n",
            "Loss: 43 is 87.39694626629353\n",
            "Loss: 44 is 98.54674503207207\n",
            "Loss: 45 is 107.60412353277206\n",
            "Loss: 46 is 89.8934069275856\n",
            "Loss: 47 is 102.80209133028984\n",
            "Loss: 48 is 92.63925559818745\n",
            "Loss: 49 is 95.39715834707022\n",
            "Loss: 50 is 103.57044215500355\n",
            "Loss: 51 is 120.67644780874252\n",
            "Loss: 52 is 114.42693412303925\n",
            "Loss: 53 is 115.85845103859901\n",
            "Loss: 54 is 110.2932368516922\n",
            "Loss: 55 is 102.65101135894656\n",
            "Loss: 56 is 85.65342125296593\n",
            "Loss: 57 is 87.24617923796177\n",
            "Loss: 58 is 95.23611931502819\n",
            "Loss: 59 is 103.31181259453297\n",
            "Loss: 60 is 96.09849797189236\n",
            "Loss: 61 is 98.18852144479752\n",
            "Loss: 62 is 89.5640334263444\n",
            "Loss: 63 is 91.56196887791157\n",
            "Loss: 64 is 96.24818471074104\n",
            "Loss: 65 is 105.07998043298721\n",
            "Loss: 66 is 94.41881184279919\n",
            "Loss: 67 is 102.04598876833916\n",
            "Loss: 68 is 98.67797109484673\n",
            "Loss: 69 is 102.05571608245373\n",
            "Loss: 70 is 104.17486755549908\n",
            "Loss: 71 is 99.8797238022089\n",
            "Loss: 72 is 108.87424533069134\n",
            "Loss: 73 is 89.25280726701021\n",
            "Loss: 74 is 105.45552808046341\n",
            "Loss: 75 is 98.41833208501339\n",
            "Loss: 76 is 95.89452870190144\n",
            "Loss: 77 is 107.78802990913391\n",
            "Loss: 78 is 97.24537307024002\n",
            "Loss: 79 is 92.99177549034357\n",
            "Loss: 80 is 99.55652096122503\n",
            "Loss: 81 is 88.64278221130371\n",
            "Loss: 82 is 107.78683497011662\n",
            "Loss: 83 is 106.03229101747274\n",
            "Loss: 84 is 114.73822137713432\n",
            "Loss: 85 is 104.08116735517979\n",
            "Loss: 86 is 94.8335735052824\n",
            "Loss: 87 is 106.61435556411743\n",
            "Loss: 88 is 89.91498194634914\n",
            "Loss: 89 is 106.19022443890572\n",
            "Loss: 90 is 94.0605366230011\n",
            "Loss: 91 is 104.53331397473812\n",
            "Loss: 92 is 95.41806319355965\n",
            "Loss: 93 is 88.5983538031578\n",
            "Loss: 94 is 96.28711007535458\n",
            "Loss: 95 is 88.82175071537495\n",
            "Loss: 96 is 98.09093505144119\n",
            "Loss: 97 is 98.28426096588373\n",
            "Loss: 98 is 84.74875721335411\n",
            "Loss: 99 is 69.81568566709757\n",
            "Loss: 100 is 81.142383556813\n"
          ],
          "name": "stdout"
        }
      ]
    },
    {
      "cell_type": "code",
      "metadata": {
        "id": "n9jFwDPc_eLR",
        "colab_type": "code",
        "colab": {}
      },
      "source": [
        "#Creating the public dataset\n",
        "student_traindata = Subset(mnist_testset, list(range(9000)))\n",
        "student_testdata = Subset(mnist_testset, list(range(9000, 100000)))"
      ],
      "execution_count": 0,
      "outputs": []
    },
    {
      "cell_type": "code",
      "metadata": {
        "id": "jnGveWrdNwyx",
        "colab_type": "code",
        "colab": {}
      },
      "source": [
        "student_trainloader = torch.utils.data.DataLoader(student_traindata, batch_size=64, shuffle=True)\n",
        "student_testdata = torch.utils.data.DataLoader(student_testdata, batch_size=64, shuffle=True)"
      ],
      "execution_count": 0,
      "outputs": []
    },
    {
      "cell_type": "code",
      "metadata": {
        "id": "bUdGhDoPB6tV",
        "colab_type": "code",
        "colab": {}
      },
      "source": [
        "def perdict(model, dataloader):\n",
        "  outputs = torch.zeros(0, dtype=torch.long).to(device)\n",
        "  model.to(device)\n",
        "  model.eval()\n",
        "  for image, labels in dataloader:\n",
        "    image, labels = image.to(device), labels.to(device)  \n",
        "    output = model(image)\n",
        "    ps = torch.argmax(torch.exp(output), dim=1)\n",
        "    outputs = torch.cat((outputs, ps))\n",
        "  \n",
        "  return outputs"
      ],
      "execution_count": 0,
      "outputs": []
    },
    {
      "cell_type": "code",
      "metadata": {
        "id": "pOJ0uoY1ESPK",
        "colab_type": "code",
        "colab": {}
      },
      "source": [
        "epsilon = 0.1\n",
        "preds = torch.torch.zeros((len(models),9000), dtype=torch.long)\n",
        "for i, model in enumerate(models):\n",
        "  results = perdict(model, student_trainloader)\n",
        "  preds[i] = results\n",
        "  \n",
        "labels = np.array([]).astype(int)\n",
        "for image_preds in np.transpose(preds):  \n",
        "  label_counts = np.bincount(image_preds, minlength = 10)\n",
        "  beta = 1/ epsilon\n",
        "  for i in range(len(label_counts)):\n",
        "    label_counts[i] += np.random.laplace(0, beta, 1)\n",
        "  new_label = np.argmax(label_counts)\n",
        "  labels = np.append(labels, new_label)"
      ],
      "execution_count": 0,
      "outputs": []
    },
    {
      "cell_type": "code",
      "metadata": {
        "id": "MiWdVUqZWDHL",
        "colab_type": "code",
        "colab": {}
      },
      "source": [
        ""
      ],
      "execution_count": 0,
      "outputs": []
    },
    {
      "cell_type": "markdown",
      "metadata": {
        "id": "P7QnEqURwfGG",
        "colab_type": "text"
      },
      "source": [
        "<h2>5. Installing and importing PySyft</h2> "
      ]
    },
    {
      "cell_type": "code",
      "metadata": {
        "id": "PB4vgRD1IsWz",
        "colab_type": "code",
        "outputId": "33a99bf7-3c27-4da1-dd83-62130ea5fffa",
        "colab": {
          "base_uri": "https://localhost:8080/",
          "height": 1702
        }
      },
      "source": [
        "!pip install tf-encrypted\n",
        "\n",
        "! URL=\"https://github.com/openmined/PySyft.git\" && FOLDER=\"PySyft\" && if [ ! -d $FOLDER ]; then git clone -b dev --single-branch $URL; else (cd $FOLDER && git pull $URL && cd ..); fi;\n",
        "\n",
        "!cd PySyft; python setup.py install  > /dev/null\n",
        "\n",
        "import os\n",
        "import sys\n",
        "module_path = os.path.abspath(os.path.join('./PySyft'))\n",
        "if module_path not in sys.path:\n",
        "    sys.path.append(module_path)\n",
        "    \n",
        "!pip install --upgrade --force-reinstall lz4\n",
        "!pip install --upgrade --force-reinstall websocket\n",
        "!pip install --upgrade --force-reinstall websockets\n",
        "!pip install --upgrade --force-reinstall zstd"
      ],
      "execution_count": 0,
      "outputs": [
        {
          "output_type": "stream",
          "text": [
            "Collecting tf-encrypted\n",
            "\u001b[?25l  Downloading https://files.pythonhosted.org/packages/07/ce/da9916e7e78f736894b15538b702c0b213fd5d60a7fd6e481d74033a90c0/tf_encrypted-0.5.6-py3-none-manylinux1_x86_64.whl (1.4MB)\n",
            "\u001b[K     |████████████████████████████████| 1.4MB 5.1MB/s \n",
            "\u001b[?25hCollecting pyyaml>=5.1 (from tf-encrypted)\n",
            "\u001b[?25l  Downloading https://files.pythonhosted.org/packages/a3/65/837fefac7475963d1eccf4aa684c23b95aa6c1d033a2c5965ccb11e22623/PyYAML-5.1.1.tar.gz (274kB)\n",
            "\u001b[K     |████████████████████████████████| 276kB 45.0MB/s \n",
            "\u001b[?25hRequirement already satisfied: numpy>=1.14.0 in /usr/local/lib/python3.6/dist-packages (from tf-encrypted) (1.16.4)\n",
            "Requirement already satisfied: tensorflow<2,>=1.12.0 in /usr/local/lib/python3.6/dist-packages (from tf-encrypted) (1.14.0rc1)\n",
            "Requirement already satisfied: keras-preprocessing>=1.0.5 in /usr/local/lib/python3.6/dist-packages (from tensorflow<2,>=1.12.0->tf-encrypted) (1.1.0)\n",
            "Requirement already satisfied: termcolor>=1.1.0 in /usr/local/lib/python3.6/dist-packages (from tensorflow<2,>=1.12.0->tf-encrypted) (1.1.0)\n",
            "Requirement already satisfied: protobuf>=3.6.1 in /usr/local/lib/python3.6/dist-packages (from tensorflow<2,>=1.12.0->tf-encrypted) (3.7.1)\n",
            "Requirement already satisfied: tensorboard<1.14.0,>=1.13.0 in /usr/local/lib/python3.6/dist-packages (from tensorflow<2,>=1.12.0->tf-encrypted) (1.13.1)\n",
            "Requirement already satisfied: tensorflow-estimator<1.15.0rc0,>=1.14.0rc0 in /usr/local/lib/python3.6/dist-packages (from tensorflow<2,>=1.12.0->tf-encrypted) (1.14.0rc1)\n",
            "Requirement already satisfied: astor>=0.6.0 in /usr/local/lib/python3.6/dist-packages (from tensorflow<2,>=1.12.0->tf-encrypted) (0.8.0)\n",
            "Requirement already satisfied: six>=1.10.0 in /usr/local/lib/python3.6/dist-packages (from tensorflow<2,>=1.12.0->tf-encrypted) (1.12.0)\n",
            "Requirement already satisfied: wrapt>=1.11.1 in /usr/local/lib/python3.6/dist-packages (from tensorflow<2,>=1.12.0->tf-encrypted) (1.11.1)\n",
            "Requirement already satisfied: absl-py>=0.7.0 in /usr/local/lib/python3.6/dist-packages (from tensorflow<2,>=1.12.0->tf-encrypted) (0.7.1)\n",
            "Requirement already satisfied: gast>=0.2.0 in /usr/local/lib/python3.6/dist-packages (from tensorflow<2,>=1.12.0->tf-encrypted) (0.2.2)\n",
            "Requirement already satisfied: grpcio>=1.8.6 in /usr/local/lib/python3.6/dist-packages (from tensorflow<2,>=1.12.0->tf-encrypted) (1.15.0)\n",
            "Requirement already satisfied: keras-applications>=1.0.6 in /usr/local/lib/python3.6/dist-packages (from tensorflow<2,>=1.12.0->tf-encrypted) (1.0.8)\n",
            "Requirement already satisfied: google-pasta>=0.1.6 in /usr/local/lib/python3.6/dist-packages (from tensorflow<2,>=1.12.0->tf-encrypted) (0.1.7)\n",
            "Requirement already satisfied: wheel>=0.26 in /usr/local/lib/python3.6/dist-packages (from tensorflow<2,>=1.12.0->tf-encrypted) (0.33.4)\n",
            "Requirement already satisfied: setuptools in /usr/local/lib/python3.6/dist-packages (from protobuf>=3.6.1->tensorflow<2,>=1.12.0->tf-encrypted) (41.0.1)\n",
            "Requirement already satisfied: werkzeug>=0.11.15 in /usr/local/lib/python3.6/dist-packages (from tensorboard<1.14.0,>=1.13.0->tensorflow<2,>=1.12.0->tf-encrypted) (0.15.4)\n",
            "Requirement already satisfied: markdown>=2.6.8 in /usr/local/lib/python3.6/dist-packages (from tensorboard<1.14.0,>=1.13.0->tensorflow<2,>=1.12.0->tf-encrypted) (3.1.1)\n",
            "Requirement already satisfied: h5py in /usr/local/lib/python3.6/dist-packages (from keras-applications>=1.0.6->tensorflow<2,>=1.12.0->tf-encrypted) (2.8.0)\n",
            "Building wheels for collected packages: pyyaml\n",
            "  Building wheel for pyyaml (setup.py) ... \u001b[?25l\u001b[?25hdone\n",
            "  Stored in directory: /root/.cache/pip/wheels/16/27/a1/775c62ddea7bfa62324fd1f65847ed31c55dadb6051481ba3f\n",
            "Successfully built pyyaml\n",
            "Installing collected packages: pyyaml, tf-encrypted\n",
            "  Found existing installation: PyYAML 3.13\n",
            "    Uninstalling PyYAML-3.13:\n",
            "      Successfully uninstalled PyYAML-3.13\n",
            "Successfully installed pyyaml-5.1.1 tf-encrypted-0.5.6\n",
            "Cloning into 'PySyft'...\n",
            "remote: Enumerating objects: 32, done.\u001b[K\n",
            "remote: Counting objects: 100% (32/32), done.\u001b[K\n",
            "remote: Compressing objects: 100% (26/26), done.\u001b[K\n",
            "remote: Total 26853 (delta 11), reused 13 (delta 6), pack-reused 26821\n",
            "Receiving objects: 100% (26853/26853), 31.66 MiB | 21.66 MiB/s, done.\n",
            "Resolving deltas: 100% (17528/17528), done.\n",
            "zip_safe flag not set; analyzing archive contents...\n",
            "zip_safe flag not set; analyzing archive contents...\n",
            "__pycache__.zstd.cpython-36: module references __file__\n",
            "Collecting lz4\n",
            "\u001b[?25l  Downloading https://files.pythonhosted.org/packages/0a/c6/96bbb3525a63ebc53ea700cc7d37ab9045542d33b4d262d0f0408ad9bbf2/lz4-2.1.10-cp36-cp36m-manylinux1_x86_64.whl (385kB)\n",
            "\u001b[K     |████████████████████████████████| 389kB 5.1MB/s \n",
            "\u001b[31mERROR: syft 0.1.19a1 has requirement msgpack>=0.6.1, but you'll have msgpack 0.5.6 which is incompatible.\u001b[0m\n",
            "\u001b[?25hInstalling collected packages: lz4\n",
            "  Found existing installation: lz4 2.1.10\n",
            "    Uninstalling lz4-2.1.10:\n",
            "      Successfully uninstalled lz4-2.1.10\n",
            "Successfully installed lz4-2.1.10\n",
            "Collecting websocket\n",
            "\u001b[?25l  Downloading https://files.pythonhosted.org/packages/f2/6d/a60d620ea575c885510c574909d2e3ed62129b121fa2df00ca1c81024c87/websocket-0.2.1.tar.gz (195kB)\n",
            "\u001b[K     |████████████████████████████████| 204kB 3.9MB/s \n",
            "\u001b[?25hCollecting gevent (from websocket)\n",
            "\u001b[?25l  Downloading https://files.pythonhosted.org/packages/f2/ca/5b5962361ed832847b6b2f9a2d0452c8c2f29a93baef850bb8ad067c7bf9/gevent-1.4.0-cp36-cp36m-manylinux1_x86_64.whl (5.5MB)\n",
            "\u001b[K     |████████████████████████████████| 5.5MB 40.7MB/s \n",
            "\u001b[?25hCollecting greenlet (from websocket)\n",
            "\u001b[?25l  Downloading https://files.pythonhosted.org/packages/bf/45/142141aa47e01a5779f0fa5a53b81f8379ce8f2b1cd13df7d2f1d751ae42/greenlet-0.4.15-cp36-cp36m-manylinux1_x86_64.whl (41kB)\n",
            "\u001b[K     |████████████████████████████████| 51kB 20.0MB/s \n",
            "\u001b[?25hBuilding wheels for collected packages: websocket\n",
            "  Building wheel for websocket (setup.py) ... \u001b[?25l\u001b[?25hdone\n",
            "  Stored in directory: /root/.cache/pip/wheels/35/f7/5c/9e8243838269ea93f05295708519a6e183fa6b515d9ce3b636\n",
            "Successfully built websocket\n",
            "Installing collected packages: greenlet, gevent, websocket\n",
            "  Found existing installation: greenlet 0.4.15\n",
            "    Uninstalling greenlet-0.4.15:\n",
            "      Successfully uninstalled greenlet-0.4.15\n",
            "  Found existing installation: gevent 1.4.0\n",
            "    Uninstalling gevent-1.4.0:\n",
            "      Successfully uninstalled gevent-1.4.0\n",
            "Successfully installed gevent-1.4.0 greenlet-0.4.15 websocket-0.2.1\n",
            "Collecting websockets\n",
            "\u001b[?25l  Downloading https://files.pythonhosted.org/packages/43/71/8bfa882b9c502c36e5c9ef6732969533670d2b039cbf95a82ced8f762b80/websockets-7.0-cp36-cp36m-manylinux1_x86_64.whl (63kB)\n",
            "\u001b[K     |████████████████████████████████| 71kB 4.6MB/s \n",
            "\u001b[31mERROR: syft 0.1.19a1 has requirement msgpack>=0.6.1, but you'll have msgpack 0.5.6 which is incompatible.\u001b[0m\n",
            "\u001b[?25hInstalling collected packages: websockets\n",
            "  Found existing installation: websockets 7.0\n",
            "    Uninstalling websockets-7.0:\n",
            "      Successfully uninstalled websockets-7.0\n",
            "Successfully installed websockets-7.0\n",
            "Collecting zstd\n",
            "\u001b[?25l  Downloading https://files.pythonhosted.org/packages/8e/27/1ea8086d37424e83ab692015cc8dd7d5e37cf791e339633a40dc828dfb74/zstd-1.4.0.0.tar.gz (450kB)\n",
            "\u001b[K     |████████████████████████████████| 450kB 4.5MB/s \n",
            "\u001b[?25hBuilding wheels for collected packages: zstd\n",
            "  Building wheel for zstd (setup.py) ... \u001b[?25l\u001b[?25hdone\n",
            "  Stored in directory: /root/.cache/pip/wheels/ad/9a/f4/3105b5209674ac77fcca7fede95184c62a95df0196888e0e76\n",
            "Successfully built zstd\n",
            "\u001b[31mERROR: syft 0.1.19a1 has requirement msgpack>=0.6.1, but you'll have msgpack 0.5.6 which is incompatible.\u001b[0m\n",
            "Installing collected packages: zstd\n",
            "  Found existing installation: zstd 1.4.0.0\n",
            "    Uninstalling zstd-1.4.0.0:\n",
            "      Successfully uninstalled zstd-1.4.0.0\n",
            "Successfully installed zstd-1.4.0.0\n"
          ],
          "name": "stdout"
        }
      ]
    },
    {
      "cell_type": "code",
      "metadata": {
        "id": "0PoUyvqzIsXF",
        "colab_type": "code",
        "colab": {}
      },
      "source": [
        "from syft.frameworks.torch.differential_privacy import pate"
      ],
      "execution_count": 0,
      "outputs": []
    },
    {
      "cell_type": "code",
      "metadata": {
        "id": "Nq01T2DRIsXP",
        "colab_type": "code",
        "colab": {}
      },
      "source": [
        ""
      ],
      "execution_count": 0,
      "outputs": []
    }
  ]
}