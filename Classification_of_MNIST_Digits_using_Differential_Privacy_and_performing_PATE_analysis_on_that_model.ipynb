{
  "nbformat": 4,
  "nbformat_minor": 0,
  "metadata": {
    "colab": {
      "name": "Classification of MNIST Digits using Differential Privacy and performing PATE analysis on that model.ipynb",
      "version": "0.3.2",
      "provenance": [],
      "include_colab_link": true
    },
    "language_info": {
      "codemirror_mode": {
        "name": "ipython",
        "version": 3
      },
      "file_extension": ".py",
      "mimetype": "text/x-python",
      "name": "python",
      "nbconvert_exporter": "python",
      "pygments_lexer": "ipython3",
      "version": "3.6.5"
    },
    "kernelspec": {
      "name": "python3",
      "display_name": "Python 3"
    },
    "accelerator": "GPU"
  },
  "cells": [
    {
      "cell_type": "markdown",
      "metadata": {
        "id": "view-in-github",
        "colab_type": "text"
      },
      "source": [
        "<a href=\"https://colab.research.google.com/github/gargarchit/PATE_Analysis/blob/master/Classification_of_MNIST_Digits_using_Differential_Privacy_and_performing_PATE_analysis_on_that_model.ipynb\" target=\"_parent\"><img src=\"https://colab.research.google.com/assets/colab-badge.svg\" alt=\"Open In Colab\"/></a>"
      ]
    },
    {
      "cell_type": "markdown",
      "metadata": {
        "id": "uT4usrKFIsVo",
        "colab_type": "text"
      },
      "source": [
        "<h2>1. Loading MNIST Data</h2> "
      ]
    },
    {
      "cell_type": "code",
      "metadata": {
        "id": "qIp9eTtCIsVt",
        "colab_type": "code",
        "colab": {}
      },
      "source": [
        "import torch\n",
        "from torchvision import datasets, transforms\n",
        "\n",
        "transform = transforms.Compose([transforms.ToTensor(),\n",
        "                                transforms.Normalize([0.5], [0.5])]) #Grey Scale Image\n",
        "mnist_trainset = datasets.MNIST(root='./data', train=True, download=True, transform=transform)  #private data\n",
        "mnist_testset = datasets.MNIST(root='./data', train=False, download=True, transform=transform)  #public data"
      ],
      "execution_count": 0,
      "outputs": []
    },
    {
      "cell_type": "code",
      "metadata": {
        "id": "kBrDeaRtpo1h",
        "colab_type": "code",
        "colab": {
          "base_uri": "https://localhost:8080/",
          "height": 86
        },
        "outputId": "5cf0cf4a-7370-4d7a-e076-4a5f7bdd3f8f"
      },
      "source": [
        "train_loader = torch.utils.data.DataLoader(mnist_trainset, batch_size=64, shuffle=True)\n",
        "test_loader = torch.utils.data.DataLoader(mnist_testset, batch_size=64, shuffle=True)\n",
        "mnist_trainset"
      ],
      "execution_count": 7,
      "outputs": [
        {
          "output_type": "execute_result",
          "data": {
            "text/plain": [
              "Dataset MNIST\n",
              "    Number of datapoints: 60000\n",
              "    Root location: ./data\n",
              "    Split: Train"
            ]
          },
          "metadata": {
            "tags": []
          },
          "execution_count": 7
        }
      ]
    },
    {
      "cell_type": "code",
      "metadata": {
        "id": "tODjjaxSIsV5",
        "colab_type": "code",
        "colab": {}
      },
      "source": [
        "from torch.utils.data import Subset\n",
        "num_teachers = 100\n",
        "\n",
        "teacher_loaders = []  #list of dataloaders\n",
        "\n",
        "data_size = 600 # \n",
        "\n",
        "for i in range(num_teachers):\n",
        "    \n",
        "    indices = list(range(i*data_size, (i+1) *data_size))\n",
        "   \n",
        "    subset_data = Subset(mnist_trainset, indices)\n",
        "    \n",
        "    loader = torch.utils.data.DataLoader(subset_data, batch_size=64, num_workers=2)\n",
        "    teacher_loaders.append(loader)\n"
      ],
      "execution_count": 0,
      "outputs": []
    },
    {
      "cell_type": "code",
      "metadata": {
        "id": "zLRbC-KYks0z",
        "colab_type": "code",
        "colab": {
          "base_uri": "https://localhost:8080/",
          "height": 34
        },
        "outputId": "0dbe060b-90a1-4054-cb86-6b7e29f8e901"
      },
      "source": [
        "device = torch.device(\"cuda:0\" if torch.cuda.is_available() else \"cpu\")\n",
        "device"
      ],
      "execution_count": 9,
      "outputs": [
        {
          "output_type": "execute_result",
          "data": {
            "text/plain": [
              "device(type='cuda', index=0)"
            ]
          },
          "metadata": {
            "tags": []
          },
          "execution_count": 9
        }
      ]
    },
    {
      "cell_type": "markdown",
      "metadata": {
        "id": "LZ04nrPIIsWI",
        "colab_type": "text"
      },
      "source": [
        "<h2>2. Visualize a Batch of Training Data</h2>"
      ]
    },
    {
      "cell_type": "code",
      "metadata": {
        "id": "oqyeNPFsIsWK",
        "colab_type": "code",
        "colab": {
          "base_uri": "https://localhost:8080/",
          "height": 266
        },
        "outputId": "e4bd87db-c328-4443-8140-ae8567becd77"
      },
      "source": [
        "%matplotlib inline\n",
        "%config InlineBackend.figure_format = 'retina'\n",
        "\n",
        "import matplotlib.pyplot as plt\n",
        "import numpy as np\n",
        "    \n",
        "# obtain one batch of training images\n",
        "dataiter = iter(train_loader)\n",
        "images, labels = dataiter.next()\n",
        "images = images.numpy()\n",
        "\n",
        "# plot the images in the batch, along with the corresponding labels\n",
        "fig = plt.figure(figsize=(25, 4))\n",
        "for idx in np.arange(20):\n",
        "    ax = fig.add_subplot(2, 20/2, idx+1, xticks=[], yticks=[])\n",
        "    ax.imshow(np.squeeze(images[idx]), cmap='gray')\n",
        "    # print out the correct label for each image\n",
        "    # .item() gets the value contained in a Tensor\n",
        "    ax.set_title(str(labels[idx].item()))"
      ],
      "execution_count": 10,
      "outputs": [
        {
          "output_type": "display_data",
          "data": {
            "image/png": "[encoded data removed]",
            "text/plain": [
              "<Figure size 1800x288 with 20 Axes>"
            ]
          },
          "metadata": {
            "tags": [],
            "image/png": {
              "width": 1393,
              "height": 249
            }
          }
        }
      ]
    },
    {
      "cell_type": "markdown",
      "metadata": {
        "id": "xvZ4yGZ7IsWQ",
        "colab_type": "text"
      },
      "source": [
        "<h2>3. Network Architecture</h2> "
      ]
    },
    {
      "cell_type": "code",
      "metadata": {
        "id": "Q9pYqu51IsWS",
        "colab_type": "code",
        "colab": {}
      },
      "source": [
        "from torch import nn, optim\n",
        "import torch.nn.functional as F"
      ],
      "execution_count": 0,
      "outputs": []
    },
    {
      "cell_type": "code",
      "metadata": {
        "id": "ozFyAKLzIsWW",
        "colab_type": "code",
        "colab": {}
      },
      "source": [
        "class Classifier(nn.Module):\n",
        "    def __init__(self):\n",
        "        super().__init__()\n",
        "        self.fc1 = nn.Linear(784, 256)\n",
        "        self.fc2 = nn.Linear(256, 128)\n",
        "        self.fc3 = nn.Linear(128, 64)\n",
        "        self.fc4 = nn.Linear(64, 10)\n",
        "        \n",
        "        self.dropout = nn.Dropout(p=0.2) # Dropout module with 0.2 drop probability\n",
        "\n",
        "    def forward(self, x):\n",
        "        x = x.view(x.shape[0], -1)\n",
        "\n",
        "        x = self.dropout(F.relu(self.fc1(x)))\n",
        "        x = self.dropout(F.relu(self.fc2(x)))\n",
        "        x = self.dropout(F.relu(self.fc3(x)))\n",
        "\n",
        "        x = F.log_softmax(self.fc4(x), dim=1)\n",
        "\n",
        "        return x"
      ],
      "execution_count": 0,
      "outputs": []
    },
    {
      "cell_type": "code",
      "metadata": {
        "id": "giYQKFz1IsWf",
        "colab_type": "code",
        "colab": {}
      },
      "source": [
        ""
      ],
      "execution_count": 0,
      "outputs": []
    },
    {
      "cell_type": "markdown",
      "metadata": {
        "id": "Ih4r41sRIsWo",
        "colab_type": "text"
      },
      "source": [
        "<h2>4. Training the Network</h2> \n"
      ]
    },
    {
      "cell_type": "code",
      "metadata": {
        "id": "gy9nAQ-oIsWq",
        "colab_type": "code",
        "colab": {
          "base_uri": "https://localhost:8080/",
          "height": 1754
        },
        "outputId": "e19b3297-346d-4275-8a15-b89bf9a43f04"
      },
      "source": [
        "epochs = 10\n",
        "models = []\n",
        "teacher_loss = []\n",
        "for i in range(num_teachers):\n",
        "  model = Classifier()\n",
        "  model.to(device)\n",
        "  criterion = nn.NLLLoss()\n",
        "  optimizer = optim.Adam(model.parameters(), lr=0.003)\n",
        "  running_loss = 0\n",
        "  for e in range(epochs):\n",
        "    for images, labels in teacher_loaders[i]:\n",
        "      images, labels = images.to(device), labels.to(device)\n",
        "      optimizer.zero_grad()\n",
        "      log_ps = model(images)\n",
        "      loss = criterion(log_ps, labels)\n",
        "      loss.backward()\n",
        "      optimizer.step()\n",
        "      running_loss += loss.item()\n",
        "  teacher_loss.append(running_loss)\n",
        "  print(\"Loss: {} is {}\".format(i+1, running_loss))\n",
        "  models.append(model)"
      ],
      "execution_count": 15,
      "outputs": [
        {
          "output_type": "stream",
          "text": [
            "Loss: 1 is 90.25648958235979\n",
            "Loss: 2 is 102.43657250702381\n",
            "Loss: 3 is 96.37614469230175\n",
            "Loss: 4 is 90.1148320287466\n",
            "Loss: 5 is 96.72582542896271\n",
            "Loss: 6 is 99.52449397742748\n",
            "Loss: 7 is 99.57422970235348\n",
            "Loss: 8 is 98.75519179552794\n",
            "Loss: 9 is 96.92723116278648\n",
            "Loss: 10 is 91.16992318630219\n",
            "Loss: 11 is 86.24882967025042\n",
            "Loss: 12 is 113.48637160658836\n",
            "Loss: 13 is 118.91676646471024\n",
            "Loss: 14 is 94.04188494384289\n",
            "Loss: 15 is 110.53723873198032\n",
            "Loss: 16 is 92.85444164276123\n",
            "Loss: 17 is 93.97892059385777\n",
            "Loss: 18 is 89.79438199102879\n",
            "Loss: 19 is 88.5844725817442\n",
            "Loss: 20 is 101.45236730575562\n",
            "Loss: 21 is 95.54445374011993\n",
            "Loss: 22 is 108.09607312083244\n",
            "Loss: 23 is 90.48175711929798\n",
            "Loss: 24 is 115.95179423689842\n",
            "Loss: 25 is 100.28844437003136\n",
            "Loss: 26 is 93.02974353730679\n",
            "Loss: 27 is 99.74801644682884\n",
            "Loss: 28 is 95.82251727581024\n",
            "Loss: 29 is 105.80572429299355\n",
            "Loss: 30 is 114.6902642250061\n",
            "Loss: 31 is 87.35347066819668\n",
            "Loss: 32 is 94.41604495048523\n",
            "Loss: 33 is 89.20023374259472\n",
            "Loss: 34 is 87.88547460362315\n",
            "Loss: 35 is 96.40585285425186\n",
            "Loss: 36 is 86.34013442695141\n",
            "Loss: 37 is 92.55621150135994\n",
            "Loss: 38 is 102.16362342238426\n",
            "Loss: 39 is 92.06488861143589\n",
            "Loss: 40 is 96.24508783221245\n",
            "Loss: 41 is 91.39975068718195\n",
            "Loss: 42 is 101.24645265936852\n",
            "Loss: 43 is 85.13631294667721\n",
            "Loss: 44 is 97.48940548300743\n",
            "Loss: 45 is 111.29330962896347\n",
            "Loss: 46 is 91.59025463461876\n",
            "Loss: 47 is 102.37838333845139\n",
            "Loss: 48 is 86.91705167293549\n",
            "Loss: 49 is 97.86070903390646\n",
            "Loss: 50 is 108.66492319107056\n",
            "Loss: 51 is 111.67537334561348\n",
            "Loss: 52 is 111.2753087580204\n",
            "Loss: 53 is 114.89834532141685\n",
            "Loss: 54 is 101.490567445755\n",
            "Loss: 55 is 98.9260561093688\n",
            "Loss: 56 is 95.5220552533865\n",
            "Loss: 57 is 84.48625572770834\n",
            "Loss: 58 is 91.3610861748457\n",
            "Loss: 59 is 95.94853855669498\n",
            "Loss: 60 is 99.71616499125957\n",
            "Loss: 61 is 96.92371079325676\n",
            "Loss: 62 is 88.60501462966204\n",
            "Loss: 63 is 96.7939180880785\n",
            "Loss: 64 is 95.37668919563293\n",
            "Loss: 65 is 91.79590477049351\n",
            "Loss: 66 is 98.70983484387398\n",
            "Loss: 67 is 93.75470116734505\n",
            "Loss: 68 is 93.96253591030836\n",
            "Loss: 69 is 109.40267381072044\n",
            "Loss: 70 is 105.3868083357811\n",
            "Loss: 71 is 102.00391372293234\n",
            "Loss: 72 is 106.72314319014549\n",
            "Loss: 73 is 90.33410346508026\n",
            "Loss: 74 is 99.68575075268745\n",
            "Loss: 75 is 97.5609421133995\n",
            "Loss: 76 is 102.29346764087677\n",
            "Loss: 77 is 111.55705752968788\n",
            "Loss: 78 is 91.50147281587124\n",
            "Loss: 79 is 94.46884821355343\n",
            "Loss: 80 is 93.25089724361897\n",
            "Loss: 81 is 87.4246661067009\n",
            "Loss: 82 is 95.30022183060646\n",
            "Loss: 83 is 97.87098369002342\n",
            "Loss: 84 is 109.97226843237877\n",
            "Loss: 85 is 99.29214319586754\n",
            "Loss: 86 is 91.68158335983753\n",
            "Loss: 87 is 108.52490338683128\n",
            "Loss: 88 is 90.64870300889015\n",
            "Loss: 89 is 102.64107286930084\n",
            "Loss: 90 is 98.62615233659744\n",
            "Loss: 91 is 90.12812331318855\n",
            "Loss: 92 is 95.31474098563194\n",
            "Loss: 93 is 85.19003864377737\n",
            "Loss: 94 is 94.20577450096607\n",
            "Loss: 95 is 81.72987422347069\n",
            "Loss: 96 is 95.46701516211033\n",
            "Loss: 97 is 102.48145651817322\n",
            "Loss: 98 is 90.97038641571999\n",
            "Loss: 99 is 74.87590877711773\n",
            "Loss: 100 is 78.14325881749392\n"
          ],
          "name": "stdout"
        }
      ]
    },
    {
      "cell_type": "code",
      "metadata": {
        "id": "jnGveWrdNwyx",
        "colab_type": "code",
        "colab": {}
      },
      "source": [
        ""
      ],
      "execution_count": 0,
      "outputs": []
    },
    {
      "cell_type": "code",
      "metadata": {
        "id": "n9jFwDPc_eLR",
        "colab_type": "code",
        "colab": {}
      },
      "source": [
        ""
      ],
      "execution_count": 0,
      "outputs": []
    },
    {
      "cell_type": "markdown",
      "metadata": {
        "id": "P7QnEqURwfGG",
        "colab_type": "text"
      },
      "source": [
        "<h2>5. Installing and importing PySyft</h2> "
      ]
    },
    {
      "cell_type": "code",
      "metadata": {
        "id": "PB4vgRD1IsWz",
        "colab_type": "code",
        "colab": {
          "base_uri": "https://localhost:8080/",
          "height": 1702
        },
        "outputId": "33a99bf7-3c27-4da1-dd83-62130ea5fffa"
      },
      "source": [
        "!pip install tf-encrypted\n",
        "\n",
        "! URL=\"https://github.com/openmined/PySyft.git\" && FOLDER=\"PySyft\" && if [ ! -d $FOLDER ]; then git clone -b dev --single-branch $URL; else (cd $FOLDER && git pull $URL && cd ..); fi;\n",
        "\n",
        "!cd PySyft; python setup.py install  > /dev/null\n",
        "\n",
        "import os\n",
        "import sys\n",
        "module_path = os.path.abspath(os.path.join('./PySyft'))\n",
        "if module_path not in sys.path:\n",
        "    sys.path.append(module_path)\n",
        "    \n",
        "!pip install --upgrade --force-reinstall lz4\n",
        "!pip install --upgrade --force-reinstall websocket\n",
        "!pip install --upgrade --force-reinstall websockets\n",
        "!pip install --upgrade --force-reinstall zstd"
      ],
      "execution_count": 1,
      "outputs": [
        {
          "output_type": "stream",
          "text": [
            "Collecting tf-encrypted\n",
            "\u001b[?25l  Downloading https://files.pythonhosted.org/packages/07/ce/da9916e7e78f736894b15538b702c0b213fd5d60a7fd6e481d74033a90c0/tf_encrypted-0.5.6-py3-none-manylinux1_x86_64.whl (1.4MB)\n",
            "\u001b[K     |████████████████████████████████| 1.4MB 5.1MB/s \n",
            "\u001b[?25hCollecting pyyaml>=5.1 (from tf-encrypted)\n",
            "\u001b[?25l  Downloading https://files.pythonhosted.org/packages/a3/65/837fefac7475963d1eccf4aa684c23b95aa6c1d033a2c5965ccb11e22623/PyYAML-5.1.1.tar.gz (274kB)\n",
            "\u001b[K     |████████████████████████████████| 276kB 45.0MB/s \n",
            "\u001b[?25hRequirement already satisfied: numpy>=1.14.0 in /usr/local/lib/python3.6/dist-packages (from tf-encrypted) (1.16.4)\n",
            "Requirement already satisfied: tensorflow<2,>=1.12.0 in /usr/local/lib/python3.6/dist-packages (from tf-encrypted) (1.14.0rc1)\n",
            "Requirement already satisfied: keras-preprocessing>=1.0.5 in /usr/local/lib/python3.6/dist-packages (from tensorflow<2,>=1.12.0->tf-encrypted) (1.1.0)\n",
            "Requirement already satisfied: termcolor>=1.1.0 in /usr/local/lib/python3.6/dist-packages (from tensorflow<2,>=1.12.0->tf-encrypted) (1.1.0)\n",
            "Requirement already satisfied: protobuf>=3.6.1 in /usr/local/lib/python3.6/dist-packages (from tensorflow<2,>=1.12.0->tf-encrypted) (3.7.1)\n",
            "Requirement already satisfied: tensorboard<1.14.0,>=1.13.0 in /usr/local/lib/python3.6/dist-packages (from tensorflow<2,>=1.12.0->tf-encrypted) (1.13.1)\n",
            "Requirement already satisfied: tensorflow-estimator<1.15.0rc0,>=1.14.0rc0 in /usr/local/lib/python3.6/dist-packages (from tensorflow<2,>=1.12.0->tf-encrypted) (1.14.0rc1)\n",
            "Requirement already satisfied: astor>=0.6.0 in /usr/local/lib/python3.6/dist-packages (from tensorflow<2,>=1.12.0->tf-encrypted) (0.8.0)\n",
            "Requirement already satisfied: six>=1.10.0 in /usr/local/lib/python3.6/dist-packages (from tensorflow<2,>=1.12.0->tf-encrypted) (1.12.0)\n",
            "Requirement already satisfied: wrapt>=1.11.1 in /usr/local/lib/python3.6/dist-packages (from tensorflow<2,>=1.12.0->tf-encrypted) (1.11.1)\n",
            "Requirement already satisfied: absl-py>=0.7.0 in /usr/local/lib/python3.6/dist-packages (from tensorflow<2,>=1.12.0->tf-encrypted) (0.7.1)\n",
            "Requirement already satisfied: gast>=0.2.0 in /usr/local/lib/python3.6/dist-packages (from tensorflow<2,>=1.12.0->tf-encrypted) (0.2.2)\n",
            "Requirement already satisfied: grpcio>=1.8.6 in /usr/local/lib/python3.6/dist-packages (from tensorflow<2,>=1.12.0->tf-encrypted) (1.15.0)\n",
            "Requirement already satisfied: keras-applications>=1.0.6 in /usr/local/lib/python3.6/dist-packages (from tensorflow<2,>=1.12.0->tf-encrypted) (1.0.8)\n",
            "Requirement already satisfied: google-pasta>=0.1.6 in /usr/local/lib/python3.6/dist-packages (from tensorflow<2,>=1.12.0->tf-encrypted) (0.1.7)\n",
            "Requirement already satisfied: wheel>=0.26 in /usr/local/lib/python3.6/dist-packages (from tensorflow<2,>=1.12.0->tf-encrypted) (0.33.4)\n",
            "Requirement already satisfied: setuptools in /usr/local/lib/python3.6/dist-packages (from protobuf>=3.6.1->tensorflow<2,>=1.12.0->tf-encrypted) (41.0.1)\n",
            "Requirement already satisfied: werkzeug>=0.11.15 in /usr/local/lib/python3.6/dist-packages (from tensorboard<1.14.0,>=1.13.0->tensorflow<2,>=1.12.0->tf-encrypted) (0.15.4)\n",
            "Requirement already satisfied: markdown>=2.6.8 in /usr/local/lib/python3.6/dist-packages (from tensorboard<1.14.0,>=1.13.0->tensorflow<2,>=1.12.0->tf-encrypted) (3.1.1)\n",
            "Requirement already satisfied: h5py in /usr/local/lib/python3.6/dist-packages (from keras-applications>=1.0.6->tensorflow<2,>=1.12.0->tf-encrypted) (2.8.0)\n",
            "Building wheels for collected packages: pyyaml\n",
            "  Building wheel for pyyaml (setup.py) ... \u001b[?25l\u001b[?25hdone\n",
            "  Stored in directory: /root/.cache/pip/wheels/16/27/a1/775c62ddea7bfa62324fd1f65847ed31c55dadb6051481ba3f\n",
            "Successfully built pyyaml\n",
            "Installing collected packages: pyyaml, tf-encrypted\n",
            "  Found existing installation: PyYAML 3.13\n",
            "    Uninstalling PyYAML-3.13:\n",
            "      Successfully uninstalled PyYAML-3.13\n",
            "Successfully installed pyyaml-5.1.1 tf-encrypted-0.5.6\n",
            "Cloning into 'PySyft'...\n",
            "remote: Enumerating objects: 32, done.\u001b[K\n",
            "remote: Counting objects: 100% (32/32), done.\u001b[K\n",
            "remote: Compressing objects: 100% (26/26), done.\u001b[K\n",
            "remote: Total 26853 (delta 11), reused 13 (delta 6), pack-reused 26821\n",
            "Receiving objects: 100% (26853/26853), 31.66 MiB | 21.66 MiB/s, done.\n",
            "Resolving deltas: 100% (17528/17528), done.\n",
            "zip_safe flag not set; analyzing archive contents...\n",
            "zip_safe flag not set; analyzing archive contents...\n",
            "__pycache__.zstd.cpython-36: module references __file__\n",
            "Collecting lz4\n",
            "\u001b[?25l  Downloading https://files.pythonhosted.org/packages/0a/c6/96bbb3525a63ebc53ea700cc7d37ab9045542d33b4d262d0f0408ad9bbf2/lz4-2.1.10-cp36-cp36m-manylinux1_x86_64.whl (385kB)\n",
            "\u001b[K     |████████████████████████████████| 389kB 5.1MB/s \n",
            "\u001b[31mERROR: syft 0.1.19a1 has requirement msgpack>=0.6.1, but you'll have msgpack 0.5.6 which is incompatible.\u001b[0m\n",
            "\u001b[?25hInstalling collected packages: lz4\n",
            "  Found existing installation: lz4 2.1.10\n",
            "    Uninstalling lz4-2.1.10:\n",
            "      Successfully uninstalled lz4-2.1.10\n",
            "Successfully installed lz4-2.1.10\n",
            "Collecting websocket\n",
            "\u001b[?25l  Downloading https://files.pythonhosted.org/packages/f2/6d/a60d620ea575c885510c574909d2e3ed62129b121fa2df00ca1c81024c87/websocket-0.2.1.tar.gz (195kB)\n",
            "\u001b[K     |████████████████████████████████| 204kB 3.9MB/s \n",
            "\u001b[?25hCollecting gevent (from websocket)\n",
            "\u001b[?25l  Downloading https://files.pythonhosted.org/packages/f2/ca/5b5962361ed832847b6b2f9a2d0452c8c2f29a93baef850bb8ad067c7bf9/gevent-1.4.0-cp36-cp36m-manylinux1_x86_64.whl (5.5MB)\n",
            "\u001b[K     |████████████████████████████████| 5.5MB 40.7MB/s \n",
            "\u001b[?25hCollecting greenlet (from websocket)\n",
            "\u001b[?25l  Downloading https://files.pythonhosted.org/packages/bf/45/142141aa47e01a5779f0fa5a53b81f8379ce8f2b1cd13df7d2f1d751ae42/greenlet-0.4.15-cp36-cp36m-manylinux1_x86_64.whl (41kB)\n",
            "\u001b[K     |████████████████████████████████| 51kB 20.0MB/s \n",
            "\u001b[?25hBuilding wheels for collected packages: websocket\n",
            "  Building wheel for websocket (setup.py) ... \u001b[?25l\u001b[?25hdone\n",
            "  Stored in directory: /root/.cache/pip/wheels/35/f7/5c/9e8243838269ea93f05295708519a6e183fa6b515d9ce3b636\n",
            "Successfully built websocket\n",
            "Installing collected packages: greenlet, gevent, websocket\n",
            "  Found existing installation: greenlet 0.4.15\n",
            "    Uninstalling greenlet-0.4.15:\n",
            "      Successfully uninstalled greenlet-0.4.15\n",
            "  Found existing installation: gevent 1.4.0\n",
            "    Uninstalling gevent-1.4.0:\n",
            "      Successfully uninstalled gevent-1.4.0\n",
            "Successfully installed gevent-1.4.0 greenlet-0.4.15 websocket-0.2.1\n",
            "Collecting websockets\n",
            "\u001b[?25l  Downloading https://files.pythonhosted.org/packages/43/71/8bfa882b9c502c36e5c9ef6732969533670d2b039cbf95a82ced8f762b80/websockets-7.0-cp36-cp36m-manylinux1_x86_64.whl (63kB)\n",
            "\u001b[K     |████████████████████████████████| 71kB 4.6MB/s \n",
            "\u001b[31mERROR: syft 0.1.19a1 has requirement msgpack>=0.6.1, but you'll have msgpack 0.5.6 which is incompatible.\u001b[0m\n",
            "\u001b[?25hInstalling collected packages: websockets\n",
            "  Found existing installation: websockets 7.0\n",
            "    Uninstalling websockets-7.0:\n",
            "      Successfully uninstalled websockets-7.0\n",
            "Successfully installed websockets-7.0\n",
            "Collecting zstd\n",
            "\u001b[?25l  Downloading https://files.pythonhosted.org/packages/8e/27/1ea8086d37424e83ab692015cc8dd7d5e37cf791e339633a40dc828dfb74/zstd-1.4.0.0.tar.gz (450kB)\n",
            "\u001b[K     |████████████████████████████████| 450kB 4.5MB/s \n",
            "\u001b[?25hBuilding wheels for collected packages: zstd\n",
            "  Building wheel for zstd (setup.py) ... \u001b[?25l\u001b[?25hdone\n",
            "  Stored in directory: /root/.cache/pip/wheels/ad/9a/f4/3105b5209674ac77fcca7fede95184c62a95df0196888e0e76\n",
            "Successfully built zstd\n",
            "\u001b[31mERROR: syft 0.1.19a1 has requirement msgpack>=0.6.1, but you'll have msgpack 0.5.6 which is incompatible.\u001b[0m\n",
            "Installing collected packages: zstd\n",
            "  Found existing installation: zstd 1.4.0.0\n",
            "    Uninstalling zstd-1.4.0.0:\n",
            "      Successfully uninstalled zstd-1.4.0.0\n",
            "Successfully installed zstd-1.4.0.0\n"
          ],
          "name": "stdout"
        }
      ]
    },
    {
      "cell_type": "code",
      "metadata": {
        "id": "0PoUyvqzIsXF",
        "colab_type": "code",
        "colab": {}
      },
      "source": [
        "from syft.frameworks.torch.differential_privacy import pate"
      ],
      "execution_count": 0,
      "outputs": []
    },
    {
      "cell_type": "code",
      "metadata": {
        "id": "Nq01T2DRIsXP",
        "colab_type": "code",
        "colab": {}
      },
      "source": [
        ""
      ],
      "execution_count": 0,
      "outputs": []
    }
  ]
}