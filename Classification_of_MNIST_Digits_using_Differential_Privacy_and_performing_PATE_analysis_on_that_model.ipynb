{
  "nbformat": 4,
  "nbformat_minor": 0,
  "metadata": {
    "colab": {
      "name": "Classification_of_MNIST_Digits_using_Differential_Privacy_and_performing_PATE_analysis_on_that_model.ipynb",
      "version": "0.3.2",
      "provenance": [],
      "include_colab_link": true
    },
    "language_info": {
      "codemirror_mode": {
        "name": "ipython",
        "version": 3
      },
      "file_extension": ".py",
      "mimetype": "text/x-python",
      "name": "python",
      "nbconvert_exporter": "python",
      "pygments_lexer": "ipython3",
      "version": "3.6.5"
    },
    "kernelspec": {
      "name": "python3",
      "display_name": "Python 3"
    },
    "accelerator": "GPU"
  },
  "cells": [
    {
      "cell_type": "markdown",
      "metadata": {
        "id": "view-in-github",
        "colab_type": "text"
      },
      "source": [
        "<a href=\"https://colab.research.google.com/github/gargarchit/PATE_Analysis/blob/master/Classification_of_MNIST_Digits_using_Differential_Privacy_and_performing_PATE_analysis_on_that_model.ipynb\" target=\"_parent\"><img src=\"https://colab.research.google.com/assets/colab-badge.svg\" alt=\"Open In Colab\"/></a>"
      ]
    },
    {
      "cell_type": "markdown",
      "metadata": {
        "id": "uT4usrKFIsVo",
        "colab_type": "text"
      },
      "source": [
        "<h2>1. Loading MNIST Data</h2> "
      ]
    },
    {
      "cell_type": "code",
      "metadata": {
        "id": "qIp9eTtCIsVt",
        "colab_type": "code",
        "colab": {}
      },
      "source": [
        "import torch\n",
        "from torchvision import datasets, transforms\n",
        "\n",
        "transform = transforms.Compose([transforms.ToTensor(),\n",
        "                                transforms.Normalize([0.5], [0.5])]) #Grey Scale Image\n",
        "mnist_trainset = datasets.MNIST(root='./data', train=True, download=True, transform=transform)  #private data\n",
        "mnist_testset = datasets.MNIST(root='./data', train=False, download=True, transform=transform)  #public data"
      ],
      "execution_count": 0,
      "outputs": []
    },
    {
      "cell_type": "code",
      "metadata": {
        "id": "kBrDeaRtpo1h",
        "colab_type": "code",
        "outputId": "6d09b77b-cbd4-4658-efb1-6202735735f2",
        "colab": {
          "base_uri": "https://localhost:8080/",
          "height": 86
        }
      },
      "source": [
        "train_loader = torch.utils.data.DataLoader(mnist_trainset, batch_size=64, shuffle=True)\n",
        "test_loader = torch.utils.data.DataLoader(mnist_testset, batch_size=64, shuffle=True)\n",
        "print(mnist_trainset)"
      ],
      "execution_count": 24,
      "outputs": [
        {
          "output_type": "stream",
          "text": [
            "Dataset MNIST\n",
            "    Number of datapoints: 60000\n",
            "    Root location: ./data\n",
            "    Split: Train\n"
          ],
          "name": "stdout"
        }
      ]
    },
    {
      "cell_type": "markdown",
      "metadata": {
        "id": "T8UgSIldUa_R",
        "colab_type": "text"
      },
      "source": [
        "<h2>2.  Creating Data Loader for Teacher Classifer</h2> "
      ]
    },
    {
      "cell_type": "code",
      "metadata": {
        "id": "tODjjaxSIsV5",
        "colab_type": "code",
        "colab": {}
      },
      "source": [
        "from torch.utils.data import Subset\n",
        "num_teachers = 100\n",
        "\n",
        "teacher_loaders = []  #list of dataloaders\n",
        "\n",
        "data_size = 600 # mnist_trainset/num_teachers\n",
        "\n",
        "for i in range(num_teachers):\n",
        "    \n",
        "    indices = list(range(i*data_size, (i+1) *data_size)) #creating subsets of 600 data_size\n",
        "    subset_data = Subset(mnist_trainset, indices)\n",
        "    \n",
        "    loader = torch.utils.data.DataLoader(subset_data, batch_size=64, num_workers=2)\n",
        "    teacher_loaders.append(loader)\n"
      ],
      "execution_count": 0,
      "outputs": []
    },
    {
      "cell_type": "code",
      "metadata": {
        "id": "zLRbC-KYks0z",
        "colab_type": "code",
        "outputId": "d33781c8-2fb2-43fc-ff83-529c49c39a43",
        "colab": {
          "base_uri": "https://localhost:8080/",
          "height": 34
        }
      },
      "source": [
        "device = torch.device(\"cuda:0\" if torch.cuda.is_available() else \"cpu\")\n",
        "print(\"Active device:\", device)"
      ],
      "execution_count": 26,
      "outputs": [
        {
          "output_type": "stream",
          "text": [
            "Active device: cuda:0\n"
          ],
          "name": "stdout"
        }
      ]
    },
    {
      "cell_type": "markdown",
      "metadata": {
        "id": "LZ04nrPIIsWI",
        "colab_type": "text"
      },
      "source": [
        "<h2>3. Visualize a Batch of Training Data</h2>"
      ]
    },
    {
      "cell_type": "code",
      "metadata": {
        "id": "oqyeNPFsIsWK",
        "colab_type": "code",
        "outputId": "2c5d9851-fef1-4523-8553-db28519e1a9a",
        "colab": {
          "base_uri": "https://localhost:8080/",
          "height": 266
        }
      },
      "source": [
        "%matplotlib inline\n",
        "%config InlineBackend.figure_format = 'retina'\n",
        "\n",
        "import matplotlib.pyplot as plt\n",
        "import numpy as np\n",
        "    \n",
        "# obtain one batch of training images\n",
        "dataiter = iter(train_loader)\n",
        "images, labels = dataiter.next()\n",
        "images = images.numpy()\n",
        "\n",
        "# plot the images in the batch, along with the corresponding labels\n",
        "fig = plt.figure(figsize=(25, 4))\n",
        "for idx in np.arange(20):\n",
        "    ax = fig.add_subplot(2, 20/2, idx+1, xticks=[], yticks=[])\n",
        "    ax.imshow(np.squeeze(images[idx]), cmap='gray')\n",
        "    # print out the correct label for each image.item() gets the value contained in a Tensor\n",
        "    ax.set_title(str(labels[idx].item()))"
      ],
      "execution_count": 27,
      "outputs": [
        {
          "output_type": "display_data",
          "data": {
            "image/png": "[encoded data removed]",
            "text/plain": [
              "<Figure size 1800x288 with 20 Axes>"
            ]
          },
          "metadata": {
            "tags": [],
            "image/png": {
              "width": 1393,
              "height": 249
            }
          }
        }
      ]
    },
    {
      "cell_type": "markdown",
      "metadata": {
        "id": "xvZ4yGZ7IsWQ",
        "colab_type": "text"
      },
      "source": [
        "<h2>4. Network Architecture</h2> "
      ]
    },
    {
      "cell_type": "code",
      "metadata": {
        "id": "Q9pYqu51IsWS",
        "colab_type": "code",
        "colab": {}
      },
      "source": [
        "from torch import nn, optim\n",
        "import torch.nn.functional as F"
      ],
      "execution_count": 0,
      "outputs": []
    },
    {
      "cell_type": "code",
      "metadata": {
        "id": "ozFyAKLzIsWW",
        "colab_type": "code",
        "colab": {}
      },
      "source": [
        "class Classifier(nn.Module):\n",
        "    \"\"\"\n",
        "    Forward Neural Network Architecture model\n",
        "    \n",
        "    \"\"\"\n",
        "    def __init__(self):\n",
        "        super().__init__()\n",
        "        self.fc1 = nn.Linear(784, 256)\n",
        "        self.fc2 = nn.Linear(256, 128)\n",
        "        self.fc3 = nn.Linear(128, 64)\n",
        "        self.fc4 = nn.Linear(64, 10)\n",
        "        \n",
        "        self.dropout = nn.Dropout(p=0.2) # Dropout module with 0.2 drop probability\n",
        "\n",
        "    def forward(self, x):\n",
        "        x = x.view(x.shape[0], -1)\n",
        "\n",
        "        x = self.dropout(F.relu(self.fc1(x)))\n",
        "        x = self.dropout(F.relu(self.fc2(x)))\n",
        "        x = self.dropout(F.relu(self.fc3(x)))\n",
        "\n",
        "        x = F.log_softmax(self.fc4(x), dim=1)\n",
        "\n",
        "        return x"
      ],
      "execution_count": 0,
      "outputs": []
    },
    {
      "cell_type": "markdown",
      "metadata": {
        "id": "Ih4r41sRIsWo",
        "colab_type": "text"
      },
      "source": [
        "<h2>5. Training num_teacher Classifier models </h2> \n"
      ]
    },
    {
      "cell_type": "code",
      "metadata": {
        "id": "gy9nAQ-oIsWq",
        "colab_type": "code",
        "outputId": "b8b366f0-be96-4fbd-c86f-878d672b7603",
        "colab": {
          "base_uri": "https://localhost:8080/",
          "height": 1754
        }
      },
      "source": [
        "epochs = 50\n",
        "models = []\n",
        "model = Classifier()\n",
        "model.to(device)\n",
        "criterion = nn.NLLLoss()\n",
        "optimizer = optim.Adam(model.parameters(), lr=0.0001)\n",
        "teacher_loss = []\n",
        "for i in range(num_teachers):\n",
        "\n",
        "    running_loss = 0\n",
        "    for e in range(epochs):\n",
        "        running_loss = 0\n",
        "        for images, labels in teacher_loaders[i]:\n",
        "            images, labels = images.to(device), labels.to(device)\n",
        "            optimizer.zero_grad()\n",
        "            log_ps = model(images)\n",
        "            loss = criterion(log_ps, labels)\n",
        "            loss.backward()\n",
        "            optimizer.step()\n",
        "            running_loss += loss.item()\n",
        "    teacher_loss.append(running_loss)\n",
        "    print(\"Training teacher: {}/{}.. \".format(i+1, num_teachers), \"Training Loss: {:.3f}.. \".format(running_loss))\n",
        "    models.append(model)"
      ],
      "execution_count": 30,
      "outputs": [
        {
          "output_type": "stream",
          "text": [
            "Training teacher: 1/100..  Training Loss: 4.639.. \n",
            "Training teacher: 2/100..  Training Loss: 2.573.. \n",
            "Training teacher: 3/100..  Training Loss: 1.439.. \n",
            "Training teacher: 4/100..  Training Loss: 0.791.. \n",
            "Training teacher: 5/100..  Training Loss: 0.853.. \n",
            "Training teacher: 6/100..  Training Loss: 0.504.. \n",
            "Training teacher: 7/100..  Training Loss: 0.512.. \n",
            "Training teacher: 8/100..  Training Loss: 0.345.. \n",
            "Training teacher: 9/100..  Training Loss: 0.369.. \n",
            "Training teacher: 10/100..  Training Loss: 0.244.. \n",
            "Training teacher: 11/100..  Training Loss: 0.257.. \n",
            "Training teacher: 12/100..  Training Loss: 0.370.. \n",
            "Training teacher: 13/100..  Training Loss: 0.201.. \n",
            "Training teacher: 14/100..  Training Loss: 0.165.. \n",
            "Training teacher: 15/100..  Training Loss: 0.224.. \n",
            "Training teacher: 16/100..  Training Loss: 0.231.. \n",
            "Training teacher: 17/100..  Training Loss: 0.075.. \n",
            "Training teacher: 18/100..  Training Loss: 0.103.. \n",
            "Training teacher: 19/100..  Training Loss: 0.062.. \n",
            "Training teacher: 20/100..  Training Loss: 0.131.. \n",
            "Training teacher: 21/100..  Training Loss: 0.117.. \n",
            "Training teacher: 22/100..  Training Loss: 0.119.. \n",
            "Training teacher: 23/100..  Training Loss: 0.148.. \n",
            "Training teacher: 24/100..  Training Loss: 0.090.. \n",
            "Training teacher: 25/100..  Training Loss: 0.090.. \n",
            "Training teacher: 26/100..  Training Loss: 0.129.. \n",
            "Training teacher: 27/100..  Training Loss: 0.071.. \n",
            "Training teacher: 28/100..  Training Loss: 0.070.. \n",
            "Training teacher: 29/100..  Training Loss: 0.214.. \n",
            "Training teacher: 30/100..  Training Loss: 0.100.. \n",
            "Training teacher: 31/100..  Training Loss: 0.044.. \n",
            "Training teacher: 32/100..  Training Loss: 0.065.. \n",
            "Training teacher: 33/100..  Training Loss: 0.023.. \n",
            "Training teacher: 34/100..  Training Loss: 0.049.. \n",
            "Training teacher: 35/100..  Training Loss: 0.068.. \n",
            "Training teacher: 36/100..  Training Loss: 0.058.. \n",
            "Training teacher: 37/100..  Training Loss: 0.035.. \n",
            "Training teacher: 38/100..  Training Loss: 0.105.. \n",
            "Training teacher: 39/100..  Training Loss: 0.061.. \n",
            "Training teacher: 40/100..  Training Loss: 0.113.. \n",
            "Training teacher: 41/100..  Training Loss: 0.113.. \n",
            "Training teacher: 42/100..  Training Loss: 0.077.. \n",
            "Training teacher: 43/100..  Training Loss: 0.166.. \n",
            "Training teacher: 44/100..  Training Loss: 0.038.. \n",
            "Training teacher: 45/100..  Training Loss: 0.098.. \n",
            "Training teacher: 46/100..  Training Loss: 0.096.. \n",
            "Training teacher: 47/100..  Training Loss: 0.064.. \n",
            "Training teacher: 48/100..  Training Loss: 0.168.. \n",
            "Training teacher: 49/100..  Training Loss: 0.089.. \n",
            "Training teacher: 50/100..  Training Loss: 0.039.. \n",
            "Training teacher: 51/100..  Training Loss: 0.035.. \n",
            "Training teacher: 52/100..  Training Loss: 0.043.. \n",
            "Training teacher: 53/100..  Training Loss: 0.098.. \n",
            "Training teacher: 54/100..  Training Loss: 0.075.. \n",
            "Training teacher: 55/100..  Training Loss: 0.041.. \n",
            "Training teacher: 56/100..  Training Loss: 0.040.. \n",
            "Training teacher: 57/100..  Training Loss: 0.028.. \n",
            "Training teacher: 58/100..  Training Loss: 0.029.. \n",
            "Training teacher: 59/100..  Training Loss: 0.081.. \n",
            "Training teacher: 60/100..  Training Loss: 0.127.. \n",
            "Training teacher: 61/100..  Training Loss: 0.090.. \n",
            "Training teacher: 62/100..  Training Loss: 0.043.. \n",
            "Training teacher: 63/100..  Training Loss: 0.029.. \n",
            "Training teacher: 64/100..  Training Loss: 0.047.. \n",
            "Training teacher: 65/100..  Training Loss: 0.052.. \n",
            "Training teacher: 66/100..  Training Loss: 0.038.. \n",
            "Training teacher: 67/100..  Training Loss: 0.038.. \n",
            "Training teacher: 68/100..  Training Loss: 0.035.. \n",
            "Training teacher: 69/100..  Training Loss: 0.122.. \n",
            "Training teacher: 70/100..  Training Loss: 0.100.. \n",
            "Training teacher: 71/100..  Training Loss: 0.096.. \n",
            "Training teacher: 72/100..  Training Loss: 0.095.. \n",
            "Training teacher: 73/100..  Training Loss: 0.173.. \n",
            "Training teacher: 74/100..  Training Loss: 0.113.. \n",
            "Training teacher: 75/100..  Training Loss: 0.035.. \n",
            "Training teacher: 76/100..  Training Loss: 0.049.. \n",
            "Training teacher: 77/100..  Training Loss: 0.071.. \n",
            "Training teacher: 78/100..  Training Loss: 0.058.. \n",
            "Training teacher: 79/100..  Training Loss: 0.081.. \n",
            "Training teacher: 80/100..  Training Loss: 0.058.. \n",
            "Training teacher: 81/100..  Training Loss: 0.031.. \n",
            "Training teacher: 82/100..  Training Loss: 0.029.. \n",
            "Training teacher: 83/100..  Training Loss: 0.188.. \n",
            "Training teacher: 84/100..  Training Loss: 0.080.. \n",
            "Training teacher: 85/100..  Training Loss: 0.059.. \n",
            "Training teacher: 86/100..  Training Loss: 0.023.. \n",
            "Training teacher: 87/100..  Training Loss: 0.085.. \n",
            "Training teacher: 88/100..  Training Loss: 0.048.. \n",
            "Training teacher: 89/100..  Training Loss: 0.121.. \n",
            "Training teacher: 90/100..  Training Loss: 0.088.. \n",
            "Training teacher: 91/100..  Training Loss: 0.153.. \n",
            "Training teacher: 92/100..  Training Loss: 0.068.. \n",
            "Training teacher: 93/100..  Training Loss: 0.027.. \n",
            "Training teacher: 94/100..  Training Loss: 0.053.. \n",
            "Training teacher: 95/100..  Training Loss: 0.011.. \n",
            "Training teacher: 96/100..  Training Loss: 0.053.. \n",
            "Training teacher: 97/100..  Training Loss: 0.054.. \n",
            "Training teacher: 98/100..  Training Loss: 0.087.. \n",
            "Training teacher: 99/100..  Training Loss: 0.041.. \n",
            "Training teacher: 100/100..  Training Loss: 0.054.. \n"
          ],
          "name": "stdout"
        }
      ]
    },
    {
      "cell_type": "markdown",
      "metadata": {
        "id": "RZOBmqO5-B6o",
        "colab_type": "text"
      },
      "source": [
        "<h2>6. Creating public dataset and student loader </h2> \n"
      ]
    },
    {
      "cell_type": "code",
      "metadata": {
        "id": "n9jFwDPc_eLR",
        "colab_type": "code",
        "colab": {}
      },
      "source": [
        "#Creating the public dataset\n",
        "student_traindata = Subset(mnist_testset, list(range(9000))) #90% of Test dat as train data\n",
        "student_testdata = Subset(mnist_testset, list(range(9000, 10000))) #10% of Test data as test data"
      ],
      "execution_count": 0,
      "outputs": []
    },
    {
      "cell_type": "code",
      "metadata": {
        "id": "jnGveWrdNwyx",
        "colab_type": "code",
        "colab": {}
      },
      "source": [
        "#Creating student_loaders\n",
        "student_trainloader = torch.utils.data.DataLoader(student_traindata, batch_size=64, shuffle=True)\n",
        "student_testloader = torch.utils.data.DataLoader(student_testdata, batch_size=64, shuffle=True)"
      ],
      "execution_count": 0,
      "outputs": []
    },
    {
      "cell_type": "markdown",
      "metadata": {
        "id": "iQjRrrGPAR58",
        "colab_type": "text"
      },
      "source": [
        "<h2>7. Perdict Labels for a Dataset </h2> "
      ]
    },
    {
      "cell_type": "code",
      "metadata": {
        "id": "bUdGhDoPB6tV",
        "colab_type": "code",
        "colab": {}
      },
      "source": [
        "def perdict(model, dataloader):\n",
        "    \"\"\"\n",
        "    Perdicts labels for a dataset\n",
        "    Input: model and dataloader\n",
        "    \"\"\"\n",
        "    outputs = torch.zeros(0, dtype=torch.long).to(device)\n",
        "    model.to(device)\n",
        "    model.eval()\n",
        "    for image, labels in dataloader:\n",
        "        image, labels = image.to(device), labels.to(device)  \n",
        "        output = model(image)\n",
        "        ps = torch.argmax(torch.exp(output), dim=1)\n",
        "        outputs = torch.cat((outputs, ps))\n",
        "    return outputs"
      ],
      "execution_count": 0,
      "outputs": []
    },
    {
      "cell_type": "markdown",
      "metadata": {
        "id": "VmX_Hc4wAshE",
        "colab_type": "text"
      },
      "source": [
        "<h2>8. Creating the Aggregated Teacher and Student labels </h2> \n"
      ]
    },
    {
      "cell_type": "code",
      "metadata": {
        "id": "pOJ0uoY1ESPK",
        "colab_type": "code",
        "colab": {}
      },
      "source": [
        "# Creating the Aggregated Teacher and Student labels by combining the predictions of Teacher models\n",
        "epsilon = 0.1\n",
        "preds = torch.zeros((len(models),9000), dtype=torch.long)\n",
        "for i, model in enumerate(models):\n",
        "    results = perdict(model, student_trainloader)\n",
        "    preds[i] = results\n",
        "labels = np.array([]).astype(int)\n",
        "for image_preds in np.transpose(preds):  \n",
        "    label_counts = np.bincount(image_preds, minlength = 10)\n",
        "    beta = 1/ epsilon\n",
        "    for i in range(len(label_counts)):\n",
        "        label_counts[i] += np.random.laplace(0, beta, 1)\n",
        "    new_label = np.argmax(label_counts)\n",
        "    labels = np.append(labels, new_label)"
      ],
      "execution_count": 0,
      "outputs": []
    },
    {
      "cell_type": "code",
      "metadata": {
        "id": "T6_eo9Yv2ExK",
        "colab_type": "code",
        "colab": {}
      },
      "source": [
        "student_labels = np.array(labels)\n",
        "preds = preds.numpy()"
      ],
      "execution_count": 0,
      "outputs": []
    },
    {
      "cell_type": "markdown",
      "metadata": {
        "id": "SvfKtJ9z2qy7",
        "colab_type": "text"
      },
      "source": [
        "<h2>9. Creating student model and training it with the label generated from last step</h2>"
      ]
    },
    {
      "cell_type": "code",
      "metadata": {
        "id": "dmNJQFFOFeNA",
        "colab_type": "code",
        "outputId": "52ac867e-1168-47f0-d512-0ec1cfa0849a",
        "colab": {
          "base_uri": "https://localhost:8080/",
          "height": 885
        }
      },
      "source": [
        "epochs = 50\n",
        "train_losses, test_losses = [], []\n",
        "model = Classifier()\n",
        "model.to(device)\n",
        "criterion = nn.NLLLoss()\n",
        "optimizer = optim.Adam(model.parameters(), lr=0.0001)\n",
        "running_loss = 0\n",
        "for e in range(epochs):\n",
        "    running_loss = 0\n",
        "    for images, labels in student_trainloader:\n",
        "        images, labels = images.to(device), labels.to(device)\n",
        "        optimizer.zero_grad()\n",
        "        log_ps = model(images)\n",
        "        loss = criterion(log_ps, labels)\n",
        "        loss.backward()\n",
        "        optimizer.step()\n",
        "        running_loss += loss.item()\n",
        "    else:\n",
        "        test_loss = 0\n",
        "        accuracy = 0\n",
        "        \n",
        "        with torch.no_grad():\n",
        "            for images, labels in student_testloader:\n",
        "                images, labels = images.to(device), labels.to(device)\n",
        "                log_ps = model(images)\n",
        "                test_loss += criterion(log_ps, labels)\n",
        "                \n",
        "                ps = torch.exp(log_ps)\n",
        "                top_p, top_class = ps.topk(1, dim=1)\n",
        "                equals = top_class == labels.view(*top_class.shape)\n",
        "                accuracy += torch.mean(equals.type(torch.FloatTensor))        \n",
        "        train_losses.append(running_loss/len(student_trainloader))\n",
        "        test_losses.append(test_loss/len(student_testloader))\n",
        "\n",
        "        print(\"Epoch: {}/{}.. \".format(e+1, epochs),\n",
        "              \"Training Loss: {:.3f}.. \".format(running_loss/len(student_trainloader)),\n",
        "              \"Test Loss: {:.3f}.. \".format(test_loss/len(student_testloader)),\n",
        "              \"Test Accuracy: {:.3f}\".format(accuracy/len(student_testloader)))\n",
        "    "
      ],
      "execution_count": 36,
      "outputs": [
        {
          "output_type": "stream",
          "text": [
            "Epoch: 1/50..  Training Loss: 1.999..  Test Loss: 1.513..  Test Accuracy: 0.556\n",
            "Epoch: 2/50..  Training Loss: 1.108..  Test Loss: 0.923..  Test Accuracy: 0.704\n",
            "Epoch: 3/50..  Training Loss: 0.760..  Test Loss: 0.720..  Test Accuracy: 0.768\n",
            "Epoch: 4/50..  Training Loss: 0.611..  Test Loss: 0.612..  Test Accuracy: 0.816\n",
            "Epoch: 5/50..  Training Loss: 0.530..  Test Loss: 0.563..  Test Accuracy: 0.848\n",
            "Epoch: 6/50..  Training Loss: 0.470..  Test Loss: 0.495..  Test Accuracy: 0.857\n",
            "Epoch: 7/50..  Training Loss: 0.440..  Test Loss: 0.471..  Test Accuracy: 0.860\n",
            "Epoch: 8/50..  Training Loss: 0.411..  Test Loss: 0.445..  Test Accuracy: 0.863\n",
            "Epoch: 9/50..  Training Loss: 0.385..  Test Loss: 0.403..  Test Accuracy: 0.884\n",
            "Epoch: 10/50..  Training Loss: 0.362..  Test Loss: 0.406..  Test Accuracy: 0.885\n",
            "Epoch: 11/50..  Training Loss: 0.346..  Test Loss: 0.376..  Test Accuracy: 0.891\n",
            "Epoch: 12/50..  Training Loss: 0.327..  Test Loss: 0.394..  Test Accuracy: 0.884\n",
            "Epoch: 13/50..  Training Loss: 0.309..  Test Loss: 0.400..  Test Accuracy: 0.884\n",
            "Epoch: 14/50..  Training Loss: 0.291..  Test Loss: 0.370..  Test Accuracy: 0.888\n",
            "Epoch: 15/50..  Training Loss: 0.284..  Test Loss: 0.365..  Test Accuracy: 0.890\n",
            "Epoch: 16/50..  Training Loss: 0.276..  Test Loss: 0.323..  Test Accuracy: 0.911\n",
            "Epoch: 17/50..  Training Loss: 0.258..  Test Loss: 0.327..  Test Accuracy: 0.912\n",
            "Epoch: 18/50..  Training Loss: 0.246..  Test Loss: 0.324..  Test Accuracy: 0.906\n",
            "Epoch: 19/50..  Training Loss: 0.236..  Test Loss: 0.321..  Test Accuracy: 0.908\n",
            "Epoch: 20/50..  Training Loss: 0.217..  Test Loss: 0.321..  Test Accuracy: 0.913\n",
            "Epoch: 21/50..  Training Loss: 0.211..  Test Loss: 0.306..  Test Accuracy: 0.920\n",
            "Epoch: 22/50..  Training Loss: 0.208..  Test Loss: 0.288..  Test Accuracy: 0.915\n",
            "Epoch: 23/50..  Training Loss: 0.200..  Test Loss: 0.310..  Test Accuracy: 0.914\n",
            "Epoch: 24/50..  Training Loss: 0.193..  Test Loss: 0.273..  Test Accuracy: 0.919\n",
            "Epoch: 25/50..  Training Loss: 0.182..  Test Loss: 0.270..  Test Accuracy: 0.919\n",
            "Epoch: 26/50..  Training Loss: 0.175..  Test Loss: 0.298..  Test Accuracy: 0.922\n",
            "Epoch: 27/50..  Training Loss: 0.174..  Test Loss: 0.282..  Test Accuracy: 0.922\n",
            "Epoch: 28/50..  Training Loss: 0.164..  Test Loss: 0.282..  Test Accuracy: 0.926\n",
            "Epoch: 29/50..  Training Loss: 0.153..  Test Loss: 0.293..  Test Accuracy: 0.922\n",
            "Epoch: 30/50..  Training Loss: 0.150..  Test Loss: 0.256..  Test Accuracy: 0.923\n",
            "Epoch: 31/50..  Training Loss: 0.145..  Test Loss: 0.260..  Test Accuracy: 0.926\n",
            "Epoch: 32/50..  Training Loss: 0.138..  Test Loss: 0.286..  Test Accuracy: 0.921\n",
            "Epoch: 33/50..  Training Loss: 0.134..  Test Loss: 0.243..  Test Accuracy: 0.936\n",
            "Epoch: 34/50..  Training Loss: 0.126..  Test Loss: 0.276..  Test Accuracy: 0.920\n",
            "Epoch: 35/50..  Training Loss: 0.119..  Test Loss: 0.265..  Test Accuracy: 0.929\n",
            "Epoch: 36/50..  Training Loss: 0.119..  Test Loss: 0.248..  Test Accuracy: 0.929\n",
            "Epoch: 37/50..  Training Loss: 0.115..  Test Loss: 0.223..  Test Accuracy: 0.941\n",
            "Epoch: 38/50..  Training Loss: 0.104..  Test Loss: 0.244..  Test Accuracy: 0.927\n",
            "Epoch: 39/50..  Training Loss: 0.105..  Test Loss: 0.252..  Test Accuracy: 0.935\n",
            "Epoch: 40/50..  Training Loss: 0.096..  Test Loss: 0.252..  Test Accuracy: 0.926\n",
            "Epoch: 41/50..  Training Loss: 0.098..  Test Loss: 0.255..  Test Accuracy: 0.922\n",
            "Epoch: 42/50..  Training Loss: 0.092..  Test Loss: 0.239..  Test Accuracy: 0.933\n",
            "Epoch: 43/50..  Training Loss: 0.092..  Test Loss: 0.242..  Test Accuracy: 0.935\n",
            "Epoch: 44/50..  Training Loss: 0.084..  Test Loss: 0.275..  Test Accuracy: 0.922\n",
            "Epoch: 45/50..  Training Loss: 0.081..  Test Loss: 0.253..  Test Accuracy: 0.934\n",
            "Epoch: 46/50..  Training Loss: 0.078..  Test Loss: 0.253..  Test Accuracy: 0.923\n",
            "Epoch: 47/50..  Training Loss: 0.073..  Test Loss: 0.246..  Test Accuracy: 0.935\n",
            "Epoch: 48/50..  Training Loss: 0.077..  Test Loss: 0.260..  Test Accuracy: 0.937\n",
            "Epoch: 49/50..  Training Loss: 0.069..  Test Loss: 0.267..  Test Accuracy: 0.933\n",
            "Epoch: 50/50..  Training Loss: 0.066..  Test Loss: 0.248..  Test Accuracy: 0.941\n"
          ],
          "name": "stdout"
        }
      ]
    },
    {
      "cell_type": "code",
      "metadata": {
        "id": "PTJMkv1orbT9",
        "colab_type": "code",
        "outputId": "dab10516-434c-43c9-9d37-aa9a248af3d9",
        "colab": {
          "base_uri": "https://localhost:8080/",
          "height": 284
        }
      },
      "source": [
        "plt.plot(train_losses, label='Training loss')\n",
        "plt.plot(test_losses, label='Validation loss')\n",
        "plt.legend(frameon=False)"
      ],
      "execution_count": 37,
      "outputs": [
        {
          "output_type": "execute_result",
          "data": {
            "text/plain": [
              "<matplotlib.legend.Legend at 0x7f4a50221898>"
            ]
          },
          "metadata": {
            "tags": []
          },
          "execution_count": 37
        },
        {
          "output_type": "display_data",
          "data": {
            "image/png": "[encoded data removed]",
            "text/plain": [
              "<Figure size 432x288 with 1 Axes>"
            ]
          },
          "metadata": {
            "tags": [],
            "image/png": {
              "width": 380,
              "height": 250
            }
          }
        }
      ]
    },
    {
      "cell_type": "code",
      "metadata": {
        "id": "YS5gwy48HP2h",
        "colab_type": "code",
        "outputId": "fd60aa59-9752-4583-b814-a9658860491f",
        "colab": {
          "base_uri": "https://localhost:8080/",
          "height": 34
        }
      },
      "source": [
        "print(\"Accuracy obtained: {:.3f}%\".format(accuracy/len(student_testloader)*100))"
      ],
      "execution_count": 38,
      "outputs": [
        {
          "output_type": "stream",
          "text": [
            "Accuracy obtained: 94.082%\n"
          ],
          "name": "stdout"
        }
      ]
    },
    {
      "cell_type": "code",
      "metadata": {
        "id": "-Is84yL7EQ8R",
        "colab_type": "code",
        "colab": {}
      },
      "source": [
        "def view_classify(img, ps):\n",
        "    ''' Function for viewing an image and it's predicted classes.\n",
        "    '''\n",
        "    ps = ps.data.numpy().squeeze()\n",
        "\n",
        "    fig, (ax1, ax2) = plt.subplots(figsize=(6,9), ncols=2)\n",
        "    ax1.imshow(img.resize_(1, 28, 28).numpy().squeeze())\n",
        "    ax1.axis('off')\n",
        "    ax2.barh(np.arange(10), ps)\n",
        "    ax2.set_aspect(0.1)\n",
        "    ax2.set_yticks(np.arange(10))\n",
        "    ax2.set_yticklabels(np.arange(10))\n",
        "    ax2.set_title('Class Probability')\n",
        "    ax2.set_xlim(0, 1.1)\n",
        "    plt.tight_layout()"
      ],
      "execution_count": 0,
      "outputs": []
    },
    {
      "cell_type": "code",
      "metadata": {
        "id": "L7hIeNa3Ei6I",
        "colab_type": "code",
        "colab": {}
      },
      "source": [
        "dataiter = iter(student_testloader)\n",
        "images, labels = dataiter.next()\n",
        "img = #todo\n",
        "ps = torch.exp(model(img))\n",
        "view_classify(img, ps)"
      ],
      "execution_count": 0,
      "outputs": []
    },
    {
      "cell_type": "markdown",
      "metadata": {
        "id": "P7QnEqURwfGG",
        "colab_type": "text"
      },
      "source": [
        "<h2>10. Installing and importing PySyft</h2> "
      ]
    },
    {
      "cell_type": "code",
      "metadata": {
        "id": "PB4vgRD1IsWz",
        "colab_type": "code",
        "colab": {}
      },
      "source": [
        "!pip install tf-encrypted\n",
        "\n",
        "! URL=\"https://github.com/openmined/PySyft.git\" && FOLDER=\"PySyft\" && if [ ! -d $FOLDER ]; then git clone -b dev --single-branch $URL; else (cd $FOLDER && git pull $URL && cd ..); fi;\n",
        "\n",
        "!cd PySyft; python setup.py install  > /dev/null\n",
        "\n",
        "import os\n",
        "import sys\n",
        "module_path = os.path.abspath(os.path.join('./PySyft'))\n",
        "if module_path not in sys.path:\n",
        "    sys.path.append(module_path)\n",
        "    \n",
        "!pip install --upgrade --force-reinstall lz4\n",
        "!pip install --upgrade --force-reinstall websocket\n",
        "!pip install --upgrade --force-reinstall websockets\n",
        "!pip install --upgrade --force-reinstall zstd"
      ],
      "execution_count": 0,
      "outputs": []
    },
    {
      "cell_type": "code",
      "metadata": {
        "id": "0PoUyvqzIsXF",
        "colab_type": "code",
        "colab": {}
      },
      "source": [
        "from syft.frameworks.torch.differential_privacy import pate"
      ],
      "execution_count": 0,
      "outputs": []
    },
    {
      "cell_type": "code",
      "metadata": {
        "id": "Nq01T2DRIsXP",
        "colab_type": "code",
        "outputId": "758cdb90-444b-4a3b-8111-340ad6822847",
        "colab": {
          "base_uri": "https://localhost:8080/",
          "height": 52
        }
      },
      "source": [
        "data_dep_eps, data_ind_eps = pate.perform_analysis(teacher_preds=preds, indices=student_labels, noise_eps=epsilon, delta=1e-5, moments=20)\n",
        "print(\"Data Independent Epsilon:\", data_ind_eps) \n",
        "print(\"Data Dependent Epsilon:\", data_dep_eps) #Is the Epsilon value obtained by looking at how much teacher agree with each others"
      ],
      "execution_count": 53,
      "outputs": [
        {
          "output_type": "stream",
          "text": [
            "Data Independent Epsilon: 371.5129254649703\n",
            "Data Dependent Epsilon: 371.5129254650068\n"
          ],
          "name": "stdout"
        }
      ]
    }
  ]
}